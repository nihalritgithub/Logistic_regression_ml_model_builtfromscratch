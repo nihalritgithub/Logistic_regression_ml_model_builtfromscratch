{
  "nbformat": 4,
  "nbformat_minor": 0,
  "metadata": {
    "colab": {
      "provenance": [],
      "authorship_tag": "ABX9TyPnTHZsNeY/G9cnrnGAfx+g",
      "include_colab_link": true
    },
    "kernelspec": {
      "name": "python3",
      "display_name": "Python 3"
    },
    "language_info": {
      "name": "python"
    }
  },
  "cells": [
    {
      "cell_type": "markdown",
      "metadata": {
        "id": "view-in-github",
        "colab_type": "text"
      },
      "source": [
        "<a href=\"https://colab.research.google.com/github/nihalritgithub/Logistic_regression_ml_model_builtfromscratch/blob/main/LogisticRegression.ipynb\" target=\"_parent\"><img src=\"https://colab.research.google.com/assets/colab-badge.svg\" alt=\"Open In Colab\"/></a>"
      ]
    },
    {
      "cell_type": "code",
      "execution_count": 2,
      "metadata": {
        "id": "uMmlUvEO0uvh"
      },
      "outputs": [],
      "source": [
        "import numpy as np\n",
        "\n",
        "class logistic_resgression():\n",
        "\n",
        "\n",
        "  def __init__(self,learning_rate,no_of_itterations):\n",
        "\n",
        "    self.learning_rate=learning_rate\n",
        "    self.no_of_itterations=no_of_itterations\n",
        "\n",
        "  def fit(self,X,Y):\n",
        "\n",
        "    self.m,self.n=X.shape\n",
        "    self.w=np.zeros(self.n)\n",
        "    self.b=0\n",
        "    self.X=X\n",
        "    self.Y=Y\n",
        "    for i in range(self.no_of_itterations):\n",
        "      self.update_weights()\n",
        "\n",
        "  def update_weights(self):\n",
        "    Y_hat=1/(1+np.exp(-(self.X.dot(self.w)+self.b)))\n",
        "    dw=(1/self.m)*np.dot(self.X.T,(Y_hat-self.Y))\n",
        "    db=(1/self.m)*np.sum(Y_hat-self.Y)\n",
        "\n",
        "    self.w=self.w-self.learning_rate*dw\n",
        "    self.b=self.b-self.learning_rate*db\n",
        "\n",
        "  def predict(self,X):\n",
        "    Y_pred=1/(1+np.exp(-(X.dot(self.w)+self.b)))\n",
        "    Y_pred=np.where(Y_pred>0.5,1,0)\n",
        "    return Y_pred"
      ]
    },
    {
      "cell_type": "code",
      "source": [],
      "metadata": {
        "id": "AbXZ8z4E008o"
      },
      "execution_count": null,
      "outputs": []
    }
  ]
}